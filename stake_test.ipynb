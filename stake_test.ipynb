{
 "cells": [
  {
   "cell_type": "code",
   "execution_count": 1,
   "metadata": {},
   "outputs": [],
   "source": [
    "import matplotlib.pyplot as plt\n",
    "import pandas as pd\n",
    "import numpy as np\n",
    "import pyodbc as db \n",
    "conn = db.connect('DRIVER={SQL Server};'\n",
    "                        'SERVER=137.116.139.217;'\n",
    "                        'DATABASE=ARCHIVESKF;'\n",
    "                        'UID=sa;PWD=erp@123')\n",
    "\n",
    "\n",
    "data = pd.read_sql_query(\"\"\"\n",
    "        select executivename,item.brand,cast(isnull(sum(QTYSHIPPED),\n",
    "0)/1000 as int) as ItemSales from\n",
    "(select * from GPMExecutive_ShortName where gpmname= 'Mr. A. K. M. Nawajesh Hossain') as Exe\n",
    "left join\n",
    " (select * from prinfoskf ) as item\n",
    "on item.cp01=exe.[ExecutiveName]\n",
    "left join \n",
    "(select  * from oesalesdetails) as Sale\n",
    "on sale.item=item.itemno\n",
    " group by item.brand,executivename\n",
    "                            \"\"\", conn)"
   ]
  },
  {
   "cell_type": "code",
   "execution_count": 2,
   "metadata": {},
   "outputs": [
    {
     "data": {
      "text/plain": "Index(['executivename', 'brand', 'ItemSales'], dtype='object')"
     },
     "execution_count": 2,
     "metadata": {},
     "output_type": "execute_result"
    }
   ],
   "source": [
    "data.columns"
   ]
  },
  {
   "cell_type": "code",
   "execution_count": 3,
   "outputs": [
    {
     "data": {
      "text/plain": "           executivename    brand  ItemSales\n0   Dr. Mir Tanvir Ahmed  Dinafex       1143\n1   Dr. Mir Tanvir Ahmed    Tojak        193\n2  Mr. Ahmed Wassel Rafi  Dorenta        934\n3  Mr. Ahmed Wassel Rafi  Fenobac        103\n4  Mr. Ahmed Wassel Rafi    Kynol          0",
      "text/html": "<div>\n<style scoped>\n    .dataframe tbody tr th:only-of-type {\n        vertical-align: middle;\n    }\n\n    .dataframe tbody tr th {\n        vertical-align: top;\n    }\n\n    .dataframe thead th {\n        text-align: right;\n    }\n</style>\n<table border=\"1\" class=\"dataframe\">\n  <thead>\n    <tr style=\"text-align: right;\">\n      <th></th>\n      <th>executivename</th>\n      <th>brand</th>\n      <th>ItemSales</th>\n    </tr>\n  </thead>\n  <tbody>\n    <tr>\n      <th>0</th>\n      <td>Dr. Mir Tanvir Ahmed</td>\n      <td>Dinafex</td>\n      <td>1143</td>\n    </tr>\n    <tr>\n      <th>1</th>\n      <td>Dr. Mir Tanvir Ahmed</td>\n      <td>Tojak</td>\n      <td>193</td>\n    </tr>\n    <tr>\n      <th>2</th>\n      <td>Mr. Ahmed Wassel Rafi</td>\n      <td>Dorenta</td>\n      <td>934</td>\n    </tr>\n    <tr>\n      <th>3</th>\n      <td>Mr. Ahmed Wassel Rafi</td>\n      <td>Fenobac</td>\n      <td>103</td>\n    </tr>\n    <tr>\n      <th>4</th>\n      <td>Mr. Ahmed Wassel Rafi</td>\n      <td>Kynol</td>\n      <td>0</td>\n    </tr>\n  </tbody>\n</table>\n</div>"
     },
     "execution_count": 3,
     "metadata": {},
     "output_type": "execute_result"
    }
   ],
   "source": [
    "data.head()"
   ],
   "metadata": {
    "collapsed": false,
    "pycharm": {
     "name": "#%%\n"
    }
   }
  },
  {
   "cell_type": "code",
   "execution_count": 4,
   "outputs": [
    {
     "data": {
      "text/plain": "             executivename      brand  ItemSales\n0     Dr. Mir Tanvir Ahmed    Dinafex       1143\n1     Dr. Mir Tanvir Ahmed      Tojak        193\n2    Mr. Ahmed Wassel Rafi    Dorenta        934\n3    Mr. Ahmed Wassel Rafi    Fenobac        103\n4    Mr. Ahmed Wassel Rafi      Kynol          0\n5    Mr. Ahmed Wassel Rafi    Nabumet        444\n6    Mr. Ahmed Wassel Rafi     Oradin       1682\n7    Mr. Ahmed Wassel Rafi    Xenthol         57\n8         Mr. Farhan Ahmed     Etorix       4314\n9         Mr. Farhan Ahmed    Geminox          0\n10        Mr. Farhan Ahmed    Ketonic       1844\n11        Mr. Farhan Ahmed    Tenoxim         60\n12        Mr. Farhan Ahmed    Timothy        233\n13        Mr. Farhan Ahmed     Volmax          7\n14       Mr. H. M. Alamgir       Clix         30\n15       Mr. H. M. Alamgir    Levomax         44\n16       Mr. H. M. Alamgir   Lindamax        103\n17       Mr. H. M. Alamgir   Osticare        270\n18       Mr. H. M. Alamgir      Parix         71\n19       Mr. H. M. Alamgir      Stiba        149\n20       Mr. H. M. Alamgir    Zithrox       3445\n21         Mr. Hrishov Das     Biltin        884\n22         Mr. Hrishov Das    Desodin         16\n23         Mr. Hrishov Das    Mebidal         10\n24         Mr. Hrishov Das      Ontin        273\n25         Mr. Hrishov Das    Rupaday         95\n26         Mr. Hrishov Das       Toti       3995\n27  Mr. Tanmoy Chakraborty    Bonflex          1\n28  Mr. Tanmoy Chakraborty     Naprox       1536\n29  Mr. Tanmoy Chakraborty      Paino         59\n30  Mr. Tanmoy Chakraborty     Sk-Mox       1488\n31  Mr. Tanmoy Chakraborty    Sulidac        186\n32  Mr. Tanmoy Chakraborty    Toperin         17\n33   Ms. Mir Arshiya Zaman    Augment        471\n34   Ms. Mir Arshiya Zaman  Flucloxin       4713\n35   Ms. Mir Arshiya Zaman     Quinox       1438\n36   Ms. Mir Arshiya Zaman    Visomox         92",
      "text/html": "<div>\n<style scoped>\n    .dataframe tbody tr th:only-of-type {\n        vertical-align: middle;\n    }\n\n    .dataframe tbody tr th {\n        vertical-align: top;\n    }\n\n    .dataframe thead th {\n        text-align: right;\n    }\n</style>\n<table border=\"1\" class=\"dataframe\">\n  <thead>\n    <tr style=\"text-align: right;\">\n      <th></th>\n      <th>executivename</th>\n      <th>brand</th>\n      <th>ItemSales</th>\n    </tr>\n  </thead>\n  <tbody>\n    <tr>\n      <th>0</th>\n      <td>Dr. Mir Tanvir Ahmed</td>\n      <td>Dinafex</td>\n      <td>1143</td>\n    </tr>\n    <tr>\n      <th>1</th>\n      <td>Dr. Mir Tanvir Ahmed</td>\n      <td>Tojak</td>\n      <td>193</td>\n    </tr>\n    <tr>\n      <th>2</th>\n      <td>Mr. Ahmed Wassel Rafi</td>\n      <td>Dorenta</td>\n      <td>934</td>\n    </tr>\n    <tr>\n      <th>3</th>\n      <td>Mr. Ahmed Wassel Rafi</td>\n      <td>Fenobac</td>\n      <td>103</td>\n    </tr>\n    <tr>\n      <th>4</th>\n      <td>Mr. Ahmed Wassel Rafi</td>\n      <td>Kynol</td>\n      <td>0</td>\n    </tr>\n    <tr>\n      <th>5</th>\n      <td>Mr. Ahmed Wassel Rafi</td>\n      <td>Nabumet</td>\n      <td>444</td>\n    </tr>\n    <tr>\n      <th>6</th>\n      <td>Mr. Ahmed Wassel Rafi</td>\n      <td>Oradin</td>\n      <td>1682</td>\n    </tr>\n    <tr>\n      <th>7</th>\n      <td>Mr. Ahmed Wassel Rafi</td>\n      <td>Xenthol</td>\n      <td>57</td>\n    </tr>\n    <tr>\n      <th>8</th>\n      <td>Mr. Farhan Ahmed</td>\n      <td>Etorix</td>\n      <td>4314</td>\n    </tr>\n    <tr>\n      <th>9</th>\n      <td>Mr. Farhan Ahmed</td>\n      <td>Geminox</td>\n      <td>0</td>\n    </tr>\n    <tr>\n      <th>10</th>\n      <td>Mr. Farhan Ahmed</td>\n      <td>Ketonic</td>\n      <td>1844</td>\n    </tr>\n    <tr>\n      <th>11</th>\n      <td>Mr. Farhan Ahmed</td>\n      <td>Tenoxim</td>\n      <td>60</td>\n    </tr>\n    <tr>\n      <th>12</th>\n      <td>Mr. Farhan Ahmed</td>\n      <td>Timothy</td>\n      <td>233</td>\n    </tr>\n    <tr>\n      <th>13</th>\n      <td>Mr. Farhan Ahmed</td>\n      <td>Volmax</td>\n      <td>7</td>\n    </tr>\n    <tr>\n      <th>14</th>\n      <td>Mr. H. M. Alamgir</td>\n      <td>Clix</td>\n      <td>30</td>\n    </tr>\n    <tr>\n      <th>15</th>\n      <td>Mr. H. M. Alamgir</td>\n      <td>Levomax</td>\n      <td>44</td>\n    </tr>\n    <tr>\n      <th>16</th>\n      <td>Mr. H. M. Alamgir</td>\n      <td>Lindamax</td>\n      <td>103</td>\n    </tr>\n    <tr>\n      <th>17</th>\n      <td>Mr. H. M. Alamgir</td>\n      <td>Osticare</td>\n      <td>270</td>\n    </tr>\n    <tr>\n      <th>18</th>\n      <td>Mr. H. M. Alamgir</td>\n      <td>Parix</td>\n      <td>71</td>\n    </tr>\n    <tr>\n      <th>19</th>\n      <td>Mr. H. M. Alamgir</td>\n      <td>Stiba</td>\n      <td>149</td>\n    </tr>\n    <tr>\n      <th>20</th>\n      <td>Mr. H. M. Alamgir</td>\n      <td>Zithrox</td>\n      <td>3445</td>\n    </tr>\n    <tr>\n      <th>21</th>\n      <td>Mr. Hrishov Das</td>\n      <td>Biltin</td>\n      <td>884</td>\n    </tr>\n    <tr>\n      <th>22</th>\n      <td>Mr. Hrishov Das</td>\n      <td>Desodin</td>\n      <td>16</td>\n    </tr>\n    <tr>\n      <th>23</th>\n      <td>Mr. Hrishov Das</td>\n      <td>Mebidal</td>\n      <td>10</td>\n    </tr>\n    <tr>\n      <th>24</th>\n      <td>Mr. Hrishov Das</td>\n      <td>Ontin</td>\n      <td>273</td>\n    </tr>\n    <tr>\n      <th>25</th>\n      <td>Mr. Hrishov Das</td>\n      <td>Rupaday</td>\n      <td>95</td>\n    </tr>\n    <tr>\n      <th>26</th>\n      <td>Mr. Hrishov Das</td>\n      <td>Toti</td>\n      <td>3995</td>\n    </tr>\n    <tr>\n      <th>27</th>\n      <td>Mr. Tanmoy Chakraborty</td>\n      <td>Bonflex</td>\n      <td>1</td>\n    </tr>\n    <tr>\n      <th>28</th>\n      <td>Mr. Tanmoy Chakraborty</td>\n      <td>Naprox</td>\n      <td>1536</td>\n    </tr>\n    <tr>\n      <th>29</th>\n      <td>Mr. Tanmoy Chakraborty</td>\n      <td>Paino</td>\n      <td>59</td>\n    </tr>\n    <tr>\n      <th>30</th>\n      <td>Mr. Tanmoy Chakraborty</td>\n      <td>Sk-Mox</td>\n      <td>1488</td>\n    </tr>\n    <tr>\n      <th>31</th>\n      <td>Mr. Tanmoy Chakraborty</td>\n      <td>Sulidac</td>\n      <td>186</td>\n    </tr>\n    <tr>\n      <th>32</th>\n      <td>Mr. Tanmoy Chakraborty</td>\n      <td>Toperin</td>\n      <td>17</td>\n    </tr>\n    <tr>\n      <th>33</th>\n      <td>Ms. Mir Arshiya Zaman</td>\n      <td>Augment</td>\n      <td>471</td>\n    </tr>\n    <tr>\n      <th>34</th>\n      <td>Ms. Mir Arshiya Zaman</td>\n      <td>Flucloxin</td>\n      <td>4713</td>\n    </tr>\n    <tr>\n      <th>35</th>\n      <td>Ms. Mir Arshiya Zaman</td>\n      <td>Quinox</td>\n      <td>1438</td>\n    </tr>\n    <tr>\n      <th>36</th>\n      <td>Ms. Mir Arshiya Zaman</td>\n      <td>Visomox</td>\n      <td>92</td>\n    </tr>\n  </tbody>\n</table>\n</div>"
     },
     "execution_count": 4,
     "metadata": {},
     "output_type": "execute_result"
    }
   ],
   "source": [
    "data1 = data \n",
    "data1.groupby(by=\"executivename\")\n",
    "data1"
   ],
   "metadata": {
    "collapsed": false,
    "pycharm": {
     "name": "#%%\n"
    }
   }
  },
  {
   "cell_type": "code",
   "execution_count": 5,
   "outputs": [
    {
     "name": "stdout",
     "output_type": "stream",
     "text": [
      "           executivename    brand  ItemSales\n",
      "2  Mr. Ahmed Wassel Rafi  Dorenta        934\n",
      "3  Mr. Ahmed Wassel Rafi  Fenobac        103\n",
      "4  Mr. Ahmed Wassel Rafi    Kynol          0\n",
      "5  Mr. Ahmed Wassel Rafi  Nabumet        444\n",
      "6  Mr. Ahmed Wassel Rafi   Oradin       1682\n",
      "7  Mr. Ahmed Wassel Rafi  Xenthol         57\n"
     ]
    }
   ],
   "source": [
    "print(data1.loc[data1['executivename'] == 'Mr. Ahmed Wassel Rafi'])"
   ],
   "metadata": {
    "collapsed": false,
    "pycharm": {
     "name": "#%%\n"
    }
   }
  },
  {
   "cell_type": "code",
   "execution_count": 6,
   "outputs": [
    {
     "ename": "TypeError",
     "evalue": "'Series' object cannot be interpreted as an integer",
     "output_type": "error",
     "traceback": [
      "\u001B[1;31m---------------------------------------------------------------------------\u001B[0m",
      "\u001B[1;31mTypeError\u001B[0m                                 Traceback (most recent call last)",
      "\u001B[1;32m<ipython-input-6-c469d9b0ac86>\u001B[0m in \u001B[0;36m<module>\u001B[1;34m\u001B[0m\n\u001B[1;32m----> 1\u001B[1;33m \u001B[1;32mfor\u001B[0m \u001B[0mname\u001B[0m \u001B[1;32min\u001B[0m \u001B[0mlen\u001B[0m\u001B[1;33m(\u001B[0m\u001B[0mrange\u001B[0m\u001B[1;33m(\u001B[0m\u001B[0mdata1\u001B[0m\u001B[1;33m.\u001B[0m\u001B[0mexecutivename\u001B[0m\u001B[1;33m)\u001B[0m\u001B[1;33m)\u001B[0m\u001B[1;33m:\u001B[0m\u001B[1;33m\u001B[0m\u001B[1;33m\u001B[0m\u001B[0m\n\u001B[0m\u001B[0;32m      2\u001B[0m     \u001B[0mprint\u001B[0m\u001B[1;33m(\u001B[0m\u001B[0mexecutivename\u001B[0m\u001B[1;33m[\u001B[0m\u001B[0mname\u001B[0m\u001B[1;33m]\u001B[0m\u001B[1;33m)\u001B[0m\u001B[1;33m\u001B[0m\u001B[1;33m\u001B[0m\u001B[0m\n\u001B[0;32m      3\u001B[0m \u001B[1;33m\u001B[0m\u001B[0m\n",
      "\u001B[1;31mTypeError\u001B[0m: 'Series' object cannot be interpreted as an integer"
     ]
    }
   ],
   "source": [
    "for name in len(range(data1.executivename)):\n",
    "    print(executivename[name])"
   ],
   "metadata": {
    "collapsed": false,
    "pycharm": {
     "name": "#%%\n"
    }
   }
  },
  {
   "cell_type": "code",
   "execution_count": null,
   "metadata": {},
   "outputs": [],
   "source": [
    "\n",
    "\n",
    "\n",
    "zeroTothree = data['0 - 3 days'].values.tolist()\n",
    "fourToten = data['4 - 10 days'].values.tolist()\n",
    "elevenTofifteen = data['11 - 15 days'].values.tolist()\n",
    "sixteenplus = data['16+ days'].values.tolist()\n",
    "\n",
    "branch_names=data['Branch'].values.tolist()\n",
    "\n",
    "result_list=[]\n",
    "for p,q,r,s in zip(zeroTothree,fourToten,elevenTofifteen,sixteenplus):\n",
    "    list1=[p,q,r,s]\n",
    "    result_list.append(list1)\n",
    "#print(result_list)\n",
    "\n",
    "totals = [i + j + k + l\n",
    "              for i, j, k, l in zip(data['0 - 3 days'],\n",
    "                                    data['4 - 10 days'],\n",
    "                                    data['11 - 15 days'],\n",
    "                                    data['16+ days'])]\n",
    "all_zero_seven = [i / j * 100 for i, j in zip(data['0 - 3 days'], totals)]\n",
    "all_eight_fourteen = [i / j * 100 for i, j in zip(data['4 - 10 days'], totals)]\n",
    "all_fifteen_twentyone = [i / j * 100 for i, j in zip(data['11 - 15 days'], totals)]\n",
    "all_twentytwo_twentyeight = [i / j * 100 for i, j in zip(data['16+ days'], totals)]\n",
    "\n",
    "max_value=max(totals)\n",
    "\n",
    "label_list=[]\n",
    "for t,u,v,w in zip(all_zero_seven,all_eight_fourteen,all_fifteen_twentyone,all_twentytwo_twentyeight):\n",
    "    list2=[t,u,v,w]\n",
    "    label_list.append(list2)\n",
    "#print(label_list)\n",
    "\n",
    "category_names = ['0 - 3 days', '4 - 10 days',\n",
    "                  '11 - 15 days', '16+ days']\n",
    "results = result_list\n",
    "\n",
    "def survey(results, category_names):\n",
    "    labels = branch_names\n",
    "    data = np.array(results)\n",
    "    width_data=np.array(label_list)\n",
    "    data_cum = data.cumsum(axis=1)\n",
    "    # category_colors = plt.get_cmap('RdYlGn')(\n",
    "    #     np.linspace(0.15, 0.85, data.shape[1]))\n",
    "    category_colors =['#31C377', '#F4B300', '#ff4d4d', '#cc0000']\n",
    "    fig, ax = plt.subplots(figsize=(12.8, 9))\n",
    "    ax.invert_yaxis()\n",
    "    ax.xaxis.set_visible(False)\n",
    "    ax.set_xlim(0, np.sum(data, axis=1).max())\n",
    "\n",
    "#     for i, (colname, color) in enumerate(zip(category_names, category_colors)):\n",
    "#         widths = data[:, i]\n",
    "#         #print(widths)\n",
    "#         main_width=width_data[:,i]\n",
    "#         #print(main_width)\n",
    "#         starts = data_cum[:, i] - widths\n",
    "#         ax.barh(labels, widths, left=starts, height=.7,\n",
    "#                 label=colname, color=color)\n",
    "#         xcenters = starts + widths / 2\n",
    "\n",
    "\n",
    "        # r, g, b, _ = color\n",
    "#         text_color = 'black' #if r * g * b < 0.5 else 'darkgrey'\n",
    "#         for y, (x, c) in enumerate(zip(xcenters, main_width)):\n",
    "#             ax.text(x, y, str(round(c,1))+'%', ha='center', va='center',fontsize=8,\n",
    "#                     color=text_color)\n",
    "    # ax.legend(ncol=len(category_names), bbox_to_anchor=(0, 1),\n",
    "    #           loc='lower center', fontsize='small')\n",
    "    #plt.xticks(np.arange(0, max_value, 10), fontsize='9')\n",
    "    plt.legend(loc='upper center', bbox_to_anchor=(0.5, -0.025),\n",
    "                   fancybox=True, shadow=True, ncol=7)\n",
    "    plt.title('6. Branch Wise Matured Credit', fontsize=16, fontweight='bold', color='#3E0A75')\n",
    "    plt.tight_layout()\n",
    "\n",
    "\n",
    "    return fig, ax\n",
    "\n",
    "\n",
    "survey(results, category_names)\n",
    "\n",
    "plt.show()\n"
   ]
  },
  {
   "cell_type": "code",
   "execution_count": null,
   "metadata": {},
   "outputs": [],
   "source": [
    "data1 = data \n",
    "data1.groupby(by=\"executivename\")\n",
    "data1"
   ]
  },
  {
   "cell_type": "code",
   "execution_count": null,
   "metadata": {},
   "outputs": [],
   "source": [
    "print(data1.loc[data1['executivename'] == 'Mr. Ahmed Wassel Rafi'])"
   ]
  },
  {
   "cell_type": "code",
   "execution_count": null,
   "metadata": {},
   "outputs": [],
   "source": [
    "for name in len(range(data1.executivename)):\n",
    "    print(executivename[name])"
   ]
  },
  {
   "cell_type": "code",
   "execution_count": null,
   "metadata": {},
   "outputs": [],
   "source": [
    "\n",
    "\n",
    "\n",
    "zeroTothree = data['0 - 3 days'].values.tolist()\n",
    "fourToten = data['4 - 10 days'].values.tolist()\n",
    "elevenTofifteen = data['11 - 15 days'].values.tolist()\n",
    "sixteenplus = data['16+ days'].values.tolist()\n",
    "\n",
    "branch_names=data['Branch'].values.tolist()\n",
    "\n",
    "result_list=[]\n",
    "for p,q,r,s in zip(zeroTothree,fourToten,elevenTofifteen,sixteenplus):\n",
    "    list1=[p,q,r,s]\n",
    "    result_list.append(list1)\n",
    "#print(result_list)\n",
    "\n",
    "totals = [i + j + k + l\n",
    "              for i, j, k, l in zip(data['0 - 3 days'],\n",
    "                                    data['4 - 10 days'],\n",
    "                                    data['11 - 15 days'],\n",
    "                                    data['16+ days'])]\n",
    "all_zero_seven = [i / j * 100 for i, j in zip(data['0 - 3 days'], totals)]\n",
    "all_eight_fourteen = [i / j * 100 for i, j in zip(data['4 - 10 days'], totals)]\n",
    "all_fifteen_twentyone = [i / j * 100 for i, j in zip(data['11 - 15 days'], totals)]\n",
    "all_twentytwo_twentyeight = [i / j * 100 for i, j in zip(data['16+ days'], totals)]\n",
    "\n",
    "max_value=max(totals)\n",
    "\n",
    "label_list=[]\n",
    "for t,u,v,w in zip(all_zero_seven,all_eight_fourteen,all_fifteen_twentyone,all_twentytwo_twentyeight):\n",
    "    list2=[t,u,v,w]\n",
    "    label_list.append(list2)\n",
    "#print(label_list)\n",
    "\n",
    "category_names = ['0 - 3 days', '4 - 10 days',\n",
    "                  '11 - 15 days', '16+ days']\n",
    "results = result_list\n",
    "\n",
    "def survey(results, category_names):\n",
    "    labels = branch_names\n",
    "    data = np.array(results)\n",
    "    width_data=np.array(label_list)\n",
    "    data_cum = data.cumsum(axis=1)\n",
    "    # category_colors = plt.get_cmap('RdYlGn')(\n",
    "    #     np.linspace(0.15, 0.85, data.shape[1]))\n",
    "    category_colors =['#31C377', '#F4B300', '#ff4d4d', '#cc0000']\n",
    "    fig, ax = plt.subplots(figsize=(12.8, 9))\n",
    "    ax.invert_yaxis()\n",
    "    ax.xaxis.set_visible(False)\n",
    "    ax.set_xlim(0, np.sum(data, axis=1).max())\n",
    "\n",
    "#     for i, (colname, color) in enumerate(zip(category_names, category_colors)):\n",
    "#         widths = data[:, i]\n",
    "#         #print(widths)\n",
    "#         main_width=width_data[:,i]\n",
    "#         #print(main_width)\n",
    "#         starts = data_cum[:, i] - widths\n",
    "#         ax.barh(labels, widths, left=starts, height=.7,\n",
    "#                 label=colname, color=color)\n",
    "#         xcenters = starts + widths / 2\n",
    "\n",
    "\n",
    "        # r, g, b, _ = color\n",
    "#         text_color = 'black' #if r * g * b < 0.5 else 'darkgrey'\n",
    "#         for y, (x, c) in enumerate(zip(xcenters, main_width)):\n",
    "#             ax.text(x, y, str(round(c,1))+'%', ha='center', va='center',fontsize=8,\n",
    "#                     color=text_color)\n",
    "    # ax.legend(ncol=len(category_names), bbox_to_anchor=(0, 1),\n",
    "    #           loc='lower center', fontsize='small')\n",
    "    #plt.xticks(np.arange(0, max_value, 10), fontsize='9')\n",
    "    plt.legend(loc='upper center', bbox_to_anchor=(0.5, -0.025),\n",
    "                   fancybox=True, shadow=True, ncol=7)\n",
    "    plt.title('6. Branch Wise Matured Credit', fontsize=16, fontweight='bold', color='#3E0A75')\n",
    "    plt.tight_layout()\n",
    "\n",
    "\n",
    "    return fig, ax\n",
    "\n",
    "\n",
    "survey(results, category_names)\n",
    "\n",
    "plt.show()\n"
   ]
  },
  {
   "cell_type": "code",
   "execution_count": null,
   "metadata": {},
   "outputs": [],
   "source": []
  }
 ],
 "metadata": {
  "kernelspec": {
   "display_name": "Python 3",
   "language": "python",
   "name": "python3"
  },
  "language_info": {
   "codemirror_mode": {
    "name": "ipython",
    "version": 3
   },
   "file_extension": ".py",
   "mimetype": "text/x-python",
   "name": "python",
   "nbconvert_exporter": "python",
   "pygments_lexer": "ipython3",
   "version": "3.8.3"
  }
 },
 "nbformat": 4,
 "nbformat_minor": 1
}