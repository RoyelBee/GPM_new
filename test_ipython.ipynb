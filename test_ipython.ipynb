{
 "cells": [
  {
   "cell_type": "code",
   "execution_count": 1,
   "metadata": {},
   "outputs": [],
   "source": [
    "import pandas as pd"
   ]
  },
  {
   "cell_type": "code",
   "execution_count": 6,
   "metadata": {},
   "outputs": [
    {
     "name": "stderr",
     "output_type": "stream",
     "text": [
      "<ipython-input-6-33edb4692831>:5: FutureWarning: Indexing with multiple keys (implicitly converted to a tuple of keys) will be deprecated, use a list instead.\n",
      "  data = df.groupby('BRAND')['MTD Sales Target Value', 'Actual Sales MTD Value'].sum()\n"
     ]
    }
   ],
   "source": [
    "cols = ['BRAND', 'MTD Sales Target Value', 'Actual Sales MTD Value']\n",
    "df = pd.read_excel('./Data/gpm_data.xlsx', usecols = cols)\n",
    "df = df[df['MTD Sales Target Value'] != 0]\n",
    "\n",
    "data = df.groupby('BRAND')['MTD Sales Target Value', 'Actual Sales MTD Value'].sum()"
   ]
  },
  {
   "cell_type": "code",
   "execution_count": 9,
   "metadata": {
    "pycharm": {
     "name": "#%%\n"
    }
   },
   "outputs": [],
   "source": [
    "MTD_Achivment = (data['Actual Sales MTD Value'] / data['MTD Sales Target Value']) * 100\n",
    "data['MTD Sales Acv'] = MTD_Achivment\n",
    "data.to_csv('./Data/brand_wise_target_sales.csv')"
   ]
  },
  {
   "cell_type": "code",
   "execution_count": 4,
   "metadata": {},
   "outputs": [
    {
     "data": {
      "text/html": [
       "<div>\n",
       "<style scoped>\n",
       "    .dataframe tbody tr th:only-of-type {\n",
       "        vertical-align: middle;\n",
       "    }\n",
       "\n",
       "    .dataframe tbody tr th {\n",
       "        vertical-align: top;\n",
       "    }\n",
       "\n",
       "    .dataframe thead th {\n",
       "        text-align: right;\n",
       "    }\n",
       "</style>\n",
       "<table border=\"1\" class=\"dataframe\">\n",
       "  <thead>\n",
       "    <tr style=\"text-align: right;\">\n",
       "      <th></th>\n",
       "      <th>MTD Sales Target</th>\n",
       "      <th>Actual Sales MTD</th>\n",
       "    </tr>\n",
       "    <tr>\n",
       "      <th>BRAND</th>\n",
       "      <th></th>\n",
       "      <th></th>\n",
       "    </tr>\n",
       "  </thead>\n",
       "  <tbody>\n",
       "    <tr>\n",
       "      <th>Losectil</th>\n",
       "      <td>65094</td>\n",
       "      <td>84194</td>\n",
       "    </tr>\n",
       "    <tr>\n",
       "      <th>Esoral</th>\n",
       "      <td>43233</td>\n",
       "      <td>58355</td>\n",
       "    </tr>\n",
       "    <tr>\n",
       "      <th>Lulizol</th>\n",
       "      <td>15483</td>\n",
       "      <td>22327</td>\n",
       "    </tr>\n",
       "    <tr>\n",
       "      <th>ETRIAM</th>\n",
       "      <td>12903</td>\n",
       "      <td>16296</td>\n",
       "    </tr>\n",
       "    <tr>\n",
       "      <th>Facid</th>\n",
       "      <td>9997</td>\n",
       "      <td>13168</td>\n",
       "    </tr>\n",
       "    <tr>\n",
       "      <th>Topiclo</th>\n",
       "      <td>8361</td>\n",
       "      <td>11098</td>\n",
       "    </tr>\n",
       "    <tr>\n",
       "      <th>Mycofin</th>\n",
       "      <td>5160</td>\n",
       "      <td>5691</td>\n",
       "    </tr>\n",
       "    <tr>\n",
       "      <th>Rabifast</th>\n",
       "      <td>2381</td>\n",
       "      <td>2938</td>\n",
       "    </tr>\n",
       "    <tr>\n",
       "      <th>Orogurd</th>\n",
       "      <td>1548</td>\n",
       "      <td>2887</td>\n",
       "    </tr>\n",
       "    <tr>\n",
       "      <th>Topibet</th>\n",
       "      <td>1949</td>\n",
       "      <td>2707</td>\n",
       "    </tr>\n",
       "    <tr>\n",
       "      <th>Perosa</th>\n",
       "      <td>1548</td>\n",
       "      <td>1980</td>\n",
       "    </tr>\n",
       "    <tr>\n",
       "      <th>Flucoder</th>\n",
       "      <td>1157</td>\n",
       "      <td>1316</td>\n",
       "    </tr>\n",
       "    <tr>\n",
       "      <th>Mupiron</th>\n",
       "      <td>776</td>\n",
       "      <td>1314</td>\n",
       "    </tr>\n",
       "    <tr>\n",
       "      <th>Nospot</th>\n",
       "      <td>451</td>\n",
       "      <td>1014</td>\n",
       "    </tr>\n",
       "    <tr>\n",
       "      <th>Softi</th>\n",
       "      <td>451</td>\n",
       "      <td>684</td>\n",
       "    </tr>\n",
       "    <tr>\n",
       "      <th>Kezona</th>\n",
       "      <td>516</td>\n",
       "      <td>589</td>\n",
       "    </tr>\n",
       "    <tr>\n",
       "      <th>Licnil</th>\n",
       "      <td>502</td>\n",
       "      <td>574</td>\n",
       "    </tr>\n",
       "    <tr>\n",
       "      <th>Cortider</th>\n",
       "      <td>451</td>\n",
       "      <td>486</td>\n",
       "    </tr>\n",
       "    <tr>\n",
       "      <th>Panoral</th>\n",
       "      <td>425</td>\n",
       "      <td>287</td>\n",
       "    </tr>\n",
       "    <tr>\n",
       "      <th>Sorex</th>\n",
       "      <td>184</td>\n",
       "      <td>220</td>\n",
       "    </tr>\n",
       "    <tr>\n",
       "      <th>Hairgrow</th>\n",
       "      <td>81</td>\n",
       "      <td>37</td>\n",
       "    </tr>\n",
       "  </tbody>\n",
       "</table>\n",
       "</div>"
      ],
      "text/plain": [
       "          MTD Sales Target  Actual Sales MTD\n",
       "BRAND                                       \n",
       "Losectil             65094             84194\n",
       "Esoral               43233             58355\n",
       "Lulizol              15483             22327\n",
       "ETRIAM               12903             16296\n",
       "Facid                 9997             13168\n",
       "Topiclo               8361             11098\n",
       "Mycofin               5160              5691\n",
       "Rabifast              2381              2938\n",
       "Orogurd               1548              2887\n",
       "Topibet               1949              2707\n",
       "Perosa                1548              1980\n",
       "Flucoder              1157              1316\n",
       "Mupiron                776              1314\n",
       "Nospot                 451              1014\n",
       "Softi                  451               684\n",
       "Kezona                 516               589\n",
       "Licnil                 502               574\n",
       "Cortider               451               486\n",
       "Panoral                425               287\n",
       "Sorex                  184               220\n",
       "Hairgrow                81                37"
      ]
     },
     "execution_count": 4,
     "metadata": {},
     "output_type": "execute_result"
    }
   ],
   "source": [
    "data.sort_values('Actual Sales MTD', ascending=False)\n",
    "#data.to_csv('Data/brand_wise_target_sales.csv', index=True)"
   ]
  },
  {
   "cell_type": "code",
   "execution_count": null,
   "metadata": {},
   "outputs": [],
   "source": []
  }
 ],
 "metadata": {
  "kernelspec": {
   "display_name": "Python 3",
   "language": "python",
   "name": "python3"
  },
  "language_info": {
   "codemirror_mode": {
    "name": "ipython",
    "version": 3
   },
   "file_extension": ".py",
   "mimetype": "text/x-python",
   "name": "python",
   "nbconvert_exporter": "python",
   "pygments_lexer": "ipython3",
   "version": "3.8.3"
  }
 },
 "nbformat": 4,
 "nbformat_minor": 1
}